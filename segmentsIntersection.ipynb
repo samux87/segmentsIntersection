{
 "cells": [
  {
   "cell_type": "code",
   "execution_count": null,
   "metadata": {},
   "outputs": [],
   "source": [
    "# Created by Samuele Buosi on 9/7/19"
   ]
  },
  {
   "cell_type": "code",
   "execution_count": 4,
   "metadata": {},
   "outputs": [
    {
     "name": "stdout",
     "output_type": "stream",
     "text": [
      "[3.4, 8.0]\n"
     ]
    }
   ],
   "source": [
    "# CHANGE: change this with your first segment end-points \n",
    "x1, y1, x2, y2 = 1, 2, 5, 12\n",
    "\n",
    "# find ax + b = c parameters\n",
    "if x1!=x2:\n",
    "    # not vertical segment\n",
    "    a=(y1-y2)/(x2-x1)\n",
    "    b=1\n",
    "    c=a*x1+y1\n",
    "    \n",
    "else:\n",
    "    # vertical segment\n",
    "    a=1\n",
    "    b=0\n",
    "    c=x1\n",
    "    \n",
    "\n",
    "# CHANGE: second segment end-points\n",
    "x3, y3, x4, y4 = 3,0, 4,20\n",
    "# find dx + e = f parameters\n",
    "if x3!=x4:\n",
    "    # not vertical segment\n",
    "    d=(y3-y4)/(x4-x3)\n",
    "    e=1\n",
    "    f=d*x3+y3\n",
    "    \n",
    "else:\n",
    "    # vertical segment\n",
    "    d=1\n",
    "    e=0\n",
    "    f=x3\n",
    "    \n",
    "\n",
    "# if not parallel segments/lines\n",
    "if [a,b,c] != [d,e,f]:\n",
    "    c1=a*x3+b*y3\n",
    "    c2=a*x4+b*y4\n",
    "    # check if we are IN the first segment\n",
    "    if min(c1,c2)<=c and c<=max(c1,c2):\n",
    "        f1=d*x1+e*y1\n",
    "        f2=d*x2+e*y2\n",
    "        # check if we are IN the second segment\n",
    "        if min(f1,f2)<=f and f<=max(f1,f2):\n",
    "            if b==0:\n",
    "                y=(f-d*c)/e\n",
    "                intersection=[c,y]\n",
    "            else:\n",
    "                x=(b*f-c*e)/(b*d-a*e)\n",
    "                intersection=[x, (c-a*x)/b]\n",
    "\n",
    "print (intersection)"
   ]
  },
  {
   "cell_type": "code",
   "execution_count": null,
   "metadata": {},
   "outputs": [],
   "source": [
    "pri"
   ]
  }
 ],
 "metadata": {
  "kernelspec": {
   "display_name": "Python [conda env:caffe_env]",
   "language": "python",
   "name": "conda-env-caffe_env-py"
  },
  "language_info": {
   "codemirror_mode": {
    "name": "ipython",
    "version": 3
   },
   "file_extension": ".py",
   "mimetype": "text/x-python",
   "name": "python",
   "nbconvert_exporter": "python",
   "pygments_lexer": "ipython3",
   "version": "3.7.3"
  }
 },
 "nbformat": 4,
 "nbformat_minor": 2
}
